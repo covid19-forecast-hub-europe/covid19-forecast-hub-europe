{
 "cells": [
  {
   "cell_type": "markdown",
   "metadata": {},
   "source": [
    "# Setup"
   ]
  },
  {
   "cell_type": "code",
   "execution_count": 1,
   "metadata": {},
   "outputs": [],
   "source": [
    "import pandas as pd"
   ]
  },
  {
   "cell_type": "code",
   "execution_count": 2,
   "metadata": {},
   "outputs": [],
   "source": [
    "pd.set_option('display.max_columns', None) # display all columns"
   ]
  },
  {
   "cell_type": "markdown",
   "metadata": {},
   "source": [
    "# Load All Files"
   ]
  },
  {
   "cell_type": "markdown",
   "metadata": {},
   "source": [
    "### Get filenames from repo"
   ]
  },
  {
   "cell_type": "markdown",
   "metadata": {},
   "source": [
    "We first retrieve the filenames of all files listed in the repository:"
   ]
  },
  {
   "cell_type": "code",
   "execution_count": 3,
   "metadata": {},
   "outputs": [],
   "source": [
    "import requests\n",
    "\n",
    "user = \"ard-data\"\n",
    "repo = \"2020-rki-archive\"\n",
    "\n",
    "url = \"https://api.github.com/repos/{}/{}/git/trees/master?recursive=1\".format(user, repo)\n",
    "r = requests.get(url)\n",
    "res = r.json()"
   ]
  },
  {
   "cell_type": "markdown",
   "metadata": {},
   "source": [
    "We only keep the files in the folder data/2_parsed"
   ]
  },
  {
   "cell_type": "code",
   "execution_count": 4,
   "metadata": {},
   "outputs": [],
   "source": [
    "files_parsed = [file[\"path\"] for file in res[\"tree\"] if file[\"path\"].startswith(\"data/2_parsed/\")]"
   ]
  },
  {
   "cell_type": "code",
   "execution_count": 5,
   "metadata": {},
   "outputs": [
    {
     "data": {
      "text/plain": [
       "['data/2_parsed/data_2020-03-27-12-00.json.bz2',\n",
       " 'data/2_parsed/data_2020-03-28-12-00.json.bz2',\n",
       " 'data/2_parsed/data_2020-03-30-12-00.json.bz2',\n",
       " 'data/2_parsed/data_2020-03-31-01-37.json.bz2',\n",
       " 'data/2_parsed/data_2020-04-01-21-19.json.bz2']"
      ]
     },
     "execution_count": 5,
     "metadata": {},
     "output_type": "execute_result"
    }
   ],
   "source": [
    "# the first 5 files in the folder data/2_parsed\n",
    "files_parsed[:5]"
   ]
  },
  {
   "cell_type": "code",
   "execution_count": 6,
   "metadata": {},
   "outputs": [
    {
     "data": {
      "text/plain": [
       "'data/2_parsed/data_2020-06-25-02-31.json.bz2'"
      ]
     },
     "execution_count": 6,
     "metadata": {},
     "output_type": "execute_result"
    }
   ],
   "source": [
    "files_parsed[-1]"
   ]
  },
  {
   "cell_type": "markdown",
   "metadata": {},
   "source": [
    "### Retrieve latest file from data/2_parsed"
   ]
  },
  {
   "cell_type": "code",
   "execution_count": 7,
   "metadata": {},
   "outputs": [],
   "source": [
    "df = pd.read_json('https://github.com/ard-data/2020-rki-archive/raw/master/' + files_parsed[-1], compression='bz2')"
   ]
  },
  {
   "cell_type": "code",
   "execution_count": 8,
   "metadata": {},
   "outputs": [
    {
     "data": {
      "text/html": [
       "<div>\n",
       "<style scoped>\n",
       "    .dataframe tbody tr th:only-of-type {\n",
       "        vertical-align: middle;\n",
       "    }\n",
       "\n",
       "    .dataframe tbody tr th {\n",
       "        vertical-align: top;\n",
       "    }\n",
       "\n",
       "    .dataframe thead th {\n",
       "        text-align: right;\n",
       "    }\n",
       "</style>\n",
       "<table border=\"1\" class=\"dataframe\">\n",
       "  <thead>\n",
       "    <tr style=\"text-align: right;\">\n",
       "      <th></th>\n",
       "      <th>IdBundesland</th>\n",
       "      <th>Bundesland</th>\n",
       "      <th>Landkreis</th>\n",
       "      <th>Altersgruppe</th>\n",
       "      <th>Geschlecht</th>\n",
       "      <th>AnzahlFall</th>\n",
       "      <th>AnzahlTodesfall</th>\n",
       "      <th>ObjectId</th>\n",
       "      <th>Meldedatum</th>\n",
       "      <th>IdLandkreis</th>\n",
       "      <th>Datenstand</th>\n",
       "      <th>NeuerFall</th>\n",
       "      <th>NeuerTodesfall</th>\n",
       "      <th>Refdatum</th>\n",
       "      <th>NeuGenesen</th>\n",
       "      <th>AnzahlGenesen</th>\n",
       "      <th>IstErkrankungsbeginn</th>\n",
       "      <th>Altersgruppe2</th>\n",
       "      <th>MeldedatumISO</th>\n",
       "      <th>DatenstandISO</th>\n",
       "      <th>RefdatumISO</th>\n",
       "    </tr>\n",
       "  </thead>\n",
       "  <tbody>\n",
       "    <tr>\n",
       "      <th>0</th>\n",
       "      <td>1</td>\n",
       "      <td>Schleswig-Holstein</td>\n",
       "      <td>SK Flensburg</td>\n",
       "      <td>A15-A34</td>\n",
       "      <td>M</td>\n",
       "      <td>1</td>\n",
       "      <td>0</td>\n",
       "      <td>14086200</td>\n",
       "      <td>1584144000000</td>\n",
       "      <td>1001</td>\n",
       "      <td>25.06.2020, 00:00 Uhr</td>\n",
       "      <td>0</td>\n",
       "      <td>-9</td>\n",
       "      <td>1584316800000</td>\n",
       "      <td>0</td>\n",
       "      <td>1</td>\n",
       "      <td>1</td>\n",
       "      <td>Nicht übermittelt</td>\n",
       "      <td>2020-03-14</td>\n",
       "      <td>2020-06-25</td>\n",
       "      <td>2020-03-16</td>\n",
       "    </tr>\n",
       "    <tr>\n",
       "      <th>1</th>\n",
       "      <td>1</td>\n",
       "      <td>Schleswig-Holstein</td>\n",
       "      <td>SK Flensburg</td>\n",
       "      <td>A15-A34</td>\n",
       "      <td>M</td>\n",
       "      <td>1</td>\n",
       "      <td>0</td>\n",
       "      <td>14086201</td>\n",
       "      <td>1584576000000</td>\n",
       "      <td>1001</td>\n",
       "      <td>25.06.2020, 00:00 Uhr</td>\n",
       "      <td>0</td>\n",
       "      <td>-9</td>\n",
       "      <td>1584057600000</td>\n",
       "      <td>0</td>\n",
       "      <td>1</td>\n",
       "      <td>1</td>\n",
       "      <td>Nicht übermittelt</td>\n",
       "      <td>2020-03-19</td>\n",
       "      <td>2020-06-25</td>\n",
       "      <td>2020-03-13</td>\n",
       "    </tr>\n",
       "    <tr>\n",
       "      <th>2</th>\n",
       "      <td>1</td>\n",
       "      <td>Schleswig-Holstein</td>\n",
       "      <td>SK Flensburg</td>\n",
       "      <td>A15-A34</td>\n",
       "      <td>M</td>\n",
       "      <td>1</td>\n",
       "      <td>0</td>\n",
       "      <td>14086202</td>\n",
       "      <td>1584576000000</td>\n",
       "      <td>1001</td>\n",
       "      <td>25.06.2020, 00:00 Uhr</td>\n",
       "      <td>0</td>\n",
       "      <td>-9</td>\n",
       "      <td>1584316800000</td>\n",
       "      <td>0</td>\n",
       "      <td>1</td>\n",
       "      <td>1</td>\n",
       "      <td>Nicht übermittelt</td>\n",
       "      <td>2020-03-19</td>\n",
       "      <td>2020-06-25</td>\n",
       "      <td>2020-03-16</td>\n",
       "    </tr>\n",
       "    <tr>\n",
       "      <th>3</th>\n",
       "      <td>1</td>\n",
       "      <td>Schleswig-Holstein</td>\n",
       "      <td>SK Flensburg</td>\n",
       "      <td>A15-A34</td>\n",
       "      <td>M</td>\n",
       "      <td>1</td>\n",
       "      <td>0</td>\n",
       "      <td>14086203</td>\n",
       "      <td>1584748800000</td>\n",
       "      <td>1001</td>\n",
       "      <td>25.06.2020, 00:00 Uhr</td>\n",
       "      <td>0</td>\n",
       "      <td>-9</td>\n",
       "      <td>1584057600000</td>\n",
       "      <td>0</td>\n",
       "      <td>1</td>\n",
       "      <td>1</td>\n",
       "      <td>Nicht übermittelt</td>\n",
       "      <td>2020-03-21</td>\n",
       "      <td>2020-06-25</td>\n",
       "      <td>2020-03-13</td>\n",
       "    </tr>\n",
       "    <tr>\n",
       "      <th>4</th>\n",
       "      <td>1</td>\n",
       "      <td>Schleswig-Holstein</td>\n",
       "      <td>SK Flensburg</td>\n",
       "      <td>A15-A34</td>\n",
       "      <td>M</td>\n",
       "      <td>1</td>\n",
       "      <td>0</td>\n",
       "      <td>14086204</td>\n",
       "      <td>1585267200000</td>\n",
       "      <td>1001</td>\n",
       "      <td>25.06.2020, 00:00 Uhr</td>\n",
       "      <td>0</td>\n",
       "      <td>-9</td>\n",
       "      <td>1584835200000</td>\n",
       "      <td>0</td>\n",
       "      <td>1</td>\n",
       "      <td>1</td>\n",
       "      <td>Nicht übermittelt</td>\n",
       "      <td>2020-03-27</td>\n",
       "      <td>2020-06-25</td>\n",
       "      <td>2020-03-22</td>\n",
       "    </tr>\n",
       "  </tbody>\n",
       "</table>\n",
       "</div>"
      ],
      "text/plain": [
       "   IdBundesland          Bundesland     Landkreis Altersgruppe Geschlecht  \\\n",
       "0             1  Schleswig-Holstein  SK Flensburg      A15-A34          M   \n",
       "1             1  Schleswig-Holstein  SK Flensburg      A15-A34          M   \n",
       "2             1  Schleswig-Holstein  SK Flensburg      A15-A34          M   \n",
       "3             1  Schleswig-Holstein  SK Flensburg      A15-A34          M   \n",
       "4             1  Schleswig-Holstein  SK Flensburg      A15-A34          M   \n",
       "\n",
       "   AnzahlFall  AnzahlTodesfall  ObjectId     Meldedatum  IdLandkreis  \\\n",
       "0           1                0  14086200  1584144000000         1001   \n",
       "1           1                0  14086201  1584576000000         1001   \n",
       "2           1                0  14086202  1584576000000         1001   \n",
       "3           1                0  14086203  1584748800000         1001   \n",
       "4           1                0  14086204  1585267200000         1001   \n",
       "\n",
       "              Datenstand  NeuerFall  NeuerTodesfall       Refdatum  \\\n",
       "0  25.06.2020, 00:00 Uhr          0              -9  1584316800000   \n",
       "1  25.06.2020, 00:00 Uhr          0              -9  1584057600000   \n",
       "2  25.06.2020, 00:00 Uhr          0              -9  1584316800000   \n",
       "3  25.06.2020, 00:00 Uhr          0              -9  1584057600000   \n",
       "4  25.06.2020, 00:00 Uhr          0              -9  1584835200000   \n",
       "\n",
       "   NeuGenesen  AnzahlGenesen  IstErkrankungsbeginn      Altersgruppe2  \\\n",
       "0           0              1                     1  Nicht übermittelt   \n",
       "1           0              1                     1  Nicht übermittelt   \n",
       "2           0              1                     1  Nicht übermittelt   \n",
       "3           0              1                     1  Nicht übermittelt   \n",
       "4           0              1                     1  Nicht übermittelt   \n",
       "\n",
       "  MeldedatumISO DatenstandISO RefdatumISO  \n",
       "0    2020-03-14    2020-06-25  2020-03-16  \n",
       "1    2020-03-19    2020-06-25  2020-03-13  \n",
       "2    2020-03-19    2020-06-25  2020-03-16  \n",
       "3    2020-03-21    2020-06-25  2020-03-13  \n",
       "4    2020-03-27    2020-06-25  2020-03-22  "
      ]
     },
     "execution_count": 8,
     "metadata": {},
     "output_type": "execute_result"
    }
   ],
   "source": [
    "df.head()"
   ]
  },
  {
   "cell_type": "markdown",
   "metadata": {},
   "source": [
    "# Cleaning"
   ]
  },
  {
   "cell_type": "markdown",
   "metadata": {},
   "source": [
    "If the column 'DatenstandISO' is missing, we infer it from 'Datenstand'."
   ]
  },
  {
   "cell_type": "code",
   "execution_count": 9,
   "metadata": {},
   "outputs": [
    {
     "name": "stdout",
     "output_type": "stream",
     "text": [
      "Column DatenstandISO exists.\n"
     ]
    }
   ],
   "source": [
    "if 'DatenstandISO' not in df.columns:\n",
    "    print('Column DatenstandISO missing. Infer from column Datenstand.')\n",
    "    df['DatenstandISO'] = pd.to_datetime(df.Datenstand.str.replace('Uhr', '')).astype(str)\n",
    "else:\n",
    "    print('Column DatenstandISO exists.')"
   ]
  },
  {
   "cell_type": "markdown",
   "metadata": {},
   "source": [
    "# Aggregation on state level (Bundesländer)"
   ]
  },
  {
   "cell_type": "code",
   "execution_count": 10,
   "metadata": {},
   "outputs": [],
   "source": [
    "# compute the sum for each date within each state\n",
    "df_agg = df[df.NeuerTodesfall >= 0].groupby(['DatenstandISO', 'Bundesland'])['AnzahlTodesfall'].sum().reset_index()"
   ]
  },
  {
   "cell_type": "code",
   "execution_count": 11,
   "metadata": {},
   "outputs": [
    {
     "data": {
      "text/html": [
       "<div>\n",
       "<style scoped>\n",
       "    .dataframe tbody tr th:only-of-type {\n",
       "        vertical-align: middle;\n",
       "    }\n",
       "\n",
       "    .dataframe tbody tr th {\n",
       "        vertical-align: top;\n",
       "    }\n",
       "\n",
       "    .dataframe thead th {\n",
       "        text-align: right;\n",
       "    }\n",
       "</style>\n",
       "<table border=\"1\" class=\"dataframe\">\n",
       "  <thead>\n",
       "    <tr style=\"text-align: right;\">\n",
       "      <th></th>\n",
       "      <th>DatenstandISO</th>\n",
       "      <th>Bundesland</th>\n",
       "      <th>AnzahlTodesfall</th>\n",
       "    </tr>\n",
       "  </thead>\n",
       "  <tbody>\n",
       "    <tr>\n",
       "      <th>0</th>\n",
       "      <td>2020-06-25</td>\n",
       "      <td>Baden-Württemberg</td>\n",
       "      <td>1827</td>\n",
       "    </tr>\n",
       "    <tr>\n",
       "      <th>1</th>\n",
       "      <td>2020-06-25</td>\n",
       "      <td>Bayern</td>\n",
       "      <td>2583</td>\n",
       "    </tr>\n",
       "    <tr>\n",
       "      <th>2</th>\n",
       "      <td>2020-06-25</td>\n",
       "      <td>Berlin</td>\n",
       "      <td>212</td>\n",
       "    </tr>\n",
       "    <tr>\n",
       "      <th>3</th>\n",
       "      <td>2020-06-25</td>\n",
       "      <td>Brandenburg</td>\n",
       "      <td>165</td>\n",
       "    </tr>\n",
       "    <tr>\n",
       "      <th>4</th>\n",
       "      <td>2020-06-25</td>\n",
       "      <td>Bremen</td>\n",
       "      <td>49</td>\n",
       "    </tr>\n",
       "    <tr>\n",
       "      <th>5</th>\n",
       "      <td>2020-06-25</td>\n",
       "      <td>Hamburg</td>\n",
       "      <td>259</td>\n",
       "    </tr>\n",
       "    <tr>\n",
       "      <th>6</th>\n",
       "      <td>2020-06-25</td>\n",
       "      <td>Hessen</td>\n",
       "      <td>505</td>\n",
       "    </tr>\n",
       "    <tr>\n",
       "      <th>7</th>\n",
       "      <td>2020-06-25</td>\n",
       "      <td>Mecklenburg-Vorpommern</td>\n",
       "      <td>20</td>\n",
       "    </tr>\n",
       "    <tr>\n",
       "      <th>8</th>\n",
       "      <td>2020-06-25</td>\n",
       "      <td>Niedersachsen</td>\n",
       "      <td>623</td>\n",
       "    </tr>\n",
       "    <tr>\n",
       "      <th>9</th>\n",
       "      <td>2020-06-25</td>\n",
       "      <td>Nordrhein-Westfalen</td>\n",
       "      <td>1669</td>\n",
       "    </tr>\n",
       "    <tr>\n",
       "      <th>10</th>\n",
       "      <td>2020-06-25</td>\n",
       "      <td>Rheinland-Pfalz</td>\n",
       "      <td>235</td>\n",
       "    </tr>\n",
       "    <tr>\n",
       "      <th>11</th>\n",
       "      <td>2020-06-25</td>\n",
       "      <td>Saarland</td>\n",
       "      <td>169</td>\n",
       "    </tr>\n",
       "    <tr>\n",
       "      <th>12</th>\n",
       "      <td>2020-06-25</td>\n",
       "      <td>Sachsen</td>\n",
       "      <td>223</td>\n",
       "    </tr>\n",
       "    <tr>\n",
       "      <th>13</th>\n",
       "      <td>2020-06-25</td>\n",
       "      <td>Sachsen-Anhalt</td>\n",
       "      <td>58</td>\n",
       "    </tr>\n",
       "    <tr>\n",
       "      <th>14</th>\n",
       "      <td>2020-06-25</td>\n",
       "      <td>Schleswig-Holstein</td>\n",
       "      <td>152</td>\n",
       "    </tr>\n",
       "    <tr>\n",
       "      <th>15</th>\n",
       "      <td>2020-06-25</td>\n",
       "      <td>Thüringen</td>\n",
       "      <td>178</td>\n",
       "    </tr>\n",
       "  </tbody>\n",
       "</table>\n",
       "</div>"
      ],
      "text/plain": [
       "   DatenstandISO              Bundesland  AnzahlTodesfall\n",
       "0     2020-06-25       Baden-Württemberg             1827\n",
       "1     2020-06-25                  Bayern             2583\n",
       "2     2020-06-25                  Berlin              212\n",
       "3     2020-06-25             Brandenburg              165\n",
       "4     2020-06-25                  Bremen               49\n",
       "5     2020-06-25                 Hamburg              259\n",
       "6     2020-06-25                  Hessen              505\n",
       "7     2020-06-25  Mecklenburg-Vorpommern               20\n",
       "8     2020-06-25           Niedersachsen              623\n",
       "9     2020-06-25     Nordrhein-Westfalen             1669\n",
       "10    2020-06-25         Rheinland-Pfalz              235\n",
       "11    2020-06-25                Saarland              169\n",
       "12    2020-06-25                 Sachsen              223\n",
       "13    2020-06-25          Sachsen-Anhalt               58\n",
       "14    2020-06-25      Schleswig-Holstein              152\n",
       "15    2020-06-25               Thüringen              178"
      ]
     },
     "execution_count": 11,
     "metadata": {},
     "output_type": "execute_result"
    }
   ],
   "source": [
    "df_agg"
   ]
  },
  {
   "cell_type": "markdown",
   "metadata": {},
   "source": [
    "### Add FIPS region codes"
   ]
  },
  {
   "cell_type": "markdown",
   "metadata": {},
   "source": [
    "We add the corresponding region codes for each state given by https://en.wikipedia.org/wiki/List_of_FIPS_region_codes_(G–I)#GM:_Germany."
   ]
  },
  {
   "cell_type": "code",
   "execution_count": 12,
   "metadata": {},
   "outputs": [],
   "source": [
    "state_names = ['Baden-Württemberg', 'Bayern', 'Bremen', 'Hamburg', 'Hessen', 'Niedersachsen', 'Nordrhein-Westfalen', 'Rheinland-Pfalz',\n",
    "'Saarland', 'Schleswig-Holstein', 'Brandenburg', 'Mecklenburg-Vorpommern', 'Sachsen', 'Sachsen-Anhalt', 'Thüringen', 'Berlin']\n",
    "\n",
    "gm = ['GM0' + str(i) for i in range(1, 10)] + ['GM' + str(i) for i in range(10, 17)] \n",
    "\n",
    "fips_codes = pd.DataFrame({'Bundesland':state_names, 'location':gm})"
   ]
  },
  {
   "cell_type": "code",
   "execution_count": 13,
   "metadata": {},
   "outputs": [],
   "source": [
    "# add fips codes to dataframe with aggregated data\n",
    "df_agg = df_agg.merge(fips_codes, left_on='Bundesland', right_on='Bundesland')"
   ]
  },
  {
   "cell_type": "markdown",
   "metadata": {},
   "source": [
    "### Change location_name to English names"
   ]
  },
  {
   "cell_type": "code",
   "execution_count": 14,
   "metadata": {},
   "outputs": [],
   "source": [
    "fips_english = pd.read_csv('../../template/base_germany.csv')"
   ]
  },
  {
   "cell_type": "code",
   "execution_count": 15,
   "metadata": {},
   "outputs": [],
   "source": [
    "df_agg = df_agg.merge(fips_english, left_on='location', right_on='V1')"
   ]
  },
  {
   "cell_type": "markdown",
   "metadata": {},
   "source": [
    "### Rename columns and sort by date and location"
   ]
  },
  {
   "cell_type": "code",
   "execution_count": 16,
   "metadata": {},
   "outputs": [],
   "source": [
    "df_agg = df_agg.rename(columns={'DatenstandISO': 'date', 'AnzahlTodesfall': 'value', 'V2':'location_name'})[\n",
    "    ['date', 'location', 'location_name', 'value']].sort_values(['date', 'location']).reset_index(drop=True)"
   ]
  },
  {
   "cell_type": "code",
   "execution_count": 17,
   "metadata": {},
   "outputs": [
    {
     "data": {
      "text/html": [
       "<div>\n",
       "<style scoped>\n",
       "    .dataframe tbody tr th:only-of-type {\n",
       "        vertical-align: middle;\n",
       "    }\n",
       "\n",
       "    .dataframe tbody tr th {\n",
       "        vertical-align: top;\n",
       "    }\n",
       "\n",
       "    .dataframe thead th {\n",
       "        text-align: right;\n",
       "    }\n",
       "</style>\n",
       "<table border=\"1\" class=\"dataframe\">\n",
       "  <thead>\n",
       "    <tr style=\"text-align: right;\">\n",
       "      <th></th>\n",
       "      <th>date</th>\n",
       "      <th>location</th>\n",
       "      <th>location_name</th>\n",
       "      <th>value</th>\n",
       "    </tr>\n",
       "  </thead>\n",
       "  <tbody>\n",
       "    <tr>\n",
       "      <th>0</th>\n",
       "      <td>2020-06-25</td>\n",
       "      <td>GM01</td>\n",
       "      <td>Baden-Württemberg State</td>\n",
       "      <td>1827</td>\n",
       "    </tr>\n",
       "    <tr>\n",
       "      <th>1</th>\n",
       "      <td>2020-06-25</td>\n",
       "      <td>GM02</td>\n",
       "      <td>Free State of Bavaria</td>\n",
       "      <td>2583</td>\n",
       "    </tr>\n",
       "    <tr>\n",
       "      <th>2</th>\n",
       "      <td>2020-06-25</td>\n",
       "      <td>GM03</td>\n",
       "      <td>Free Hanseatic City of Bremen</td>\n",
       "      <td>49</td>\n",
       "    </tr>\n",
       "    <tr>\n",
       "      <th>3</th>\n",
       "      <td>2020-06-25</td>\n",
       "      <td>GM04</td>\n",
       "      <td>Free Hanseatic City of Hamburg</td>\n",
       "      <td>259</td>\n",
       "    </tr>\n",
       "    <tr>\n",
       "      <th>4</th>\n",
       "      <td>2020-06-25</td>\n",
       "      <td>GM05</td>\n",
       "      <td>Hesse State</td>\n",
       "      <td>505</td>\n",
       "    </tr>\n",
       "    <tr>\n",
       "      <th>5</th>\n",
       "      <td>2020-06-25</td>\n",
       "      <td>GM06</td>\n",
       "      <td>Lower Saxony State</td>\n",
       "      <td>623</td>\n",
       "    </tr>\n",
       "    <tr>\n",
       "      <th>6</th>\n",
       "      <td>2020-06-25</td>\n",
       "      <td>GM07</td>\n",
       "      <td>North Rhine-Westphalia State</td>\n",
       "      <td>1669</td>\n",
       "    </tr>\n",
       "    <tr>\n",
       "      <th>7</th>\n",
       "      <td>2020-06-25</td>\n",
       "      <td>GM08</td>\n",
       "      <td>Rhineland-Palatinate State</td>\n",
       "      <td>235</td>\n",
       "    </tr>\n",
       "    <tr>\n",
       "      <th>8</th>\n",
       "      <td>2020-06-25</td>\n",
       "      <td>GM09</td>\n",
       "      <td>Saarland State</td>\n",
       "      <td>169</td>\n",
       "    </tr>\n",
       "    <tr>\n",
       "      <th>9</th>\n",
       "      <td>2020-06-25</td>\n",
       "      <td>GM10</td>\n",
       "      <td>Schleswig-Holstein State</td>\n",
       "      <td>152</td>\n",
       "    </tr>\n",
       "    <tr>\n",
       "      <th>10</th>\n",
       "      <td>2020-06-25</td>\n",
       "      <td>GM11</td>\n",
       "      <td>Brandenburg State</td>\n",
       "      <td>165</td>\n",
       "    </tr>\n",
       "    <tr>\n",
       "      <th>11</th>\n",
       "      <td>2020-06-25</td>\n",
       "      <td>GM12</td>\n",
       "      <td>Mecklenburg-Western Pomerania State</td>\n",
       "      <td>20</td>\n",
       "    </tr>\n",
       "    <tr>\n",
       "      <th>12</th>\n",
       "      <td>2020-06-25</td>\n",
       "      <td>GM13</td>\n",
       "      <td>Free State of Saxony</td>\n",
       "      <td>223</td>\n",
       "    </tr>\n",
       "    <tr>\n",
       "      <th>13</th>\n",
       "      <td>2020-06-25</td>\n",
       "      <td>GM14</td>\n",
       "      <td>Sachsen-Anhalt State</td>\n",
       "      <td>58</td>\n",
       "    </tr>\n",
       "    <tr>\n",
       "      <th>14</th>\n",
       "      <td>2020-06-25</td>\n",
       "      <td>GM15</td>\n",
       "      <td>Free State of Thüringia</td>\n",
       "      <td>178</td>\n",
       "    </tr>\n",
       "    <tr>\n",
       "      <th>15</th>\n",
       "      <td>2020-06-25</td>\n",
       "      <td>GM16</td>\n",
       "      <td>Berlin State</td>\n",
       "      <td>212</td>\n",
       "    </tr>\n",
       "  </tbody>\n",
       "</table>\n",
       "</div>"
      ],
      "text/plain": [
       "          date location                        location_name  value\n",
       "0   2020-06-25     GM01              Baden-Württemberg State   1827\n",
       "1   2020-06-25     GM02                Free State of Bavaria   2583\n",
       "2   2020-06-25     GM03        Free Hanseatic City of Bremen     49\n",
       "3   2020-06-25     GM04       Free Hanseatic City of Hamburg    259\n",
       "4   2020-06-25     GM05                          Hesse State    505\n",
       "5   2020-06-25     GM06                   Lower Saxony State    623\n",
       "6   2020-06-25     GM07         North Rhine-Westphalia State   1669\n",
       "7   2020-06-25     GM08           Rhineland-Palatinate State    235\n",
       "8   2020-06-25     GM09                       Saarland State    169\n",
       "9   2020-06-25     GM10             Schleswig-Holstein State    152\n",
       "10  2020-06-25     GM11                    Brandenburg State    165\n",
       "11  2020-06-25     GM12  Mecklenburg-Western Pomerania State     20\n",
       "12  2020-06-25     GM13                 Free State of Saxony    223\n",
       "13  2020-06-25     GM14                 Sachsen-Anhalt State     58\n",
       "14  2020-06-25     GM15              Free State of Thüringia    178\n",
       "15  2020-06-25     GM16                         Berlin State    212"
      ]
     },
     "execution_count": 17,
     "metadata": {},
     "output_type": "execute_result"
    }
   ],
   "source": [
    "df_agg"
   ]
  },
  {
   "cell_type": "code",
   "execution_count": 18,
   "metadata": {},
   "outputs": [],
   "source": [
    "df_germany = df_agg.groupby('date')['value'].sum().reset_index()\n",
    "df_germany['location'] = 'GM'\n",
    "df_germany['location_name'] = 'Germany'"
   ]
  },
  {
   "cell_type": "code",
   "execution_count": 19,
   "metadata": {},
   "outputs": [
    {
     "data": {
      "text/html": [
       "<div>\n",
       "<style scoped>\n",
       "    .dataframe tbody tr th:only-of-type {\n",
       "        vertical-align: middle;\n",
       "    }\n",
       "\n",
       "    .dataframe tbody tr th {\n",
       "        vertical-align: top;\n",
       "    }\n",
       "\n",
       "    .dataframe thead th {\n",
       "        text-align: right;\n",
       "    }\n",
       "</style>\n",
       "<table border=\"1\" class=\"dataframe\">\n",
       "  <thead>\n",
       "    <tr style=\"text-align: right;\">\n",
       "      <th></th>\n",
       "      <th>date</th>\n",
       "      <th>value</th>\n",
       "      <th>location</th>\n",
       "      <th>location_name</th>\n",
       "    </tr>\n",
       "  </thead>\n",
       "  <tbody>\n",
       "    <tr>\n",
       "      <th>0</th>\n",
       "      <td>2020-06-25</td>\n",
       "      <td>8927</td>\n",
       "      <td>GM</td>\n",
       "      <td>Germany</td>\n",
       "    </tr>\n",
       "  </tbody>\n",
       "</table>\n",
       "</div>"
      ],
      "text/plain": [
       "         date  value location location_name\n",
       "0  2020-06-25   8927       GM       Germany"
      ]
     },
     "execution_count": 19,
     "metadata": {},
     "output_type": "execute_result"
    }
   ],
   "source": [
    "df_germany.head()"
   ]
  },
  {
   "cell_type": "code",
   "execution_count": 20,
   "metadata": {},
   "outputs": [],
   "source": [
    "# add data for Germany to dataframe with states\n",
    "df_cum = pd.concat([df_agg, df_germany]).sort_values(['date', 'location']).reset_index(drop=True)"
   ]
  },
  {
   "cell_type": "code",
   "execution_count": 21,
   "metadata": {},
   "outputs": [
    {
     "data": {
      "text/html": [
       "<div>\n",
       "<style scoped>\n",
       "    .dataframe tbody tr th:only-of-type {\n",
       "        vertical-align: middle;\n",
       "    }\n",
       "\n",
       "    .dataframe tbody tr th {\n",
       "        vertical-align: top;\n",
       "    }\n",
       "\n",
       "    .dataframe thead th {\n",
       "        text-align: right;\n",
       "    }\n",
       "</style>\n",
       "<table border=\"1\" class=\"dataframe\">\n",
       "  <thead>\n",
       "    <tr style=\"text-align: right;\">\n",
       "      <th></th>\n",
       "      <th>date</th>\n",
       "      <th>location</th>\n",
       "      <th>location_name</th>\n",
       "      <th>value</th>\n",
       "    </tr>\n",
       "  </thead>\n",
       "  <tbody>\n",
       "    <tr>\n",
       "      <th>0</th>\n",
       "      <td>2020-06-25</td>\n",
       "      <td>GM</td>\n",
       "      <td>Germany</td>\n",
       "      <td>8927</td>\n",
       "    </tr>\n",
       "    <tr>\n",
       "      <th>1</th>\n",
       "      <td>2020-06-25</td>\n",
       "      <td>GM01</td>\n",
       "      <td>Baden-Württemberg State</td>\n",
       "      <td>1827</td>\n",
       "    </tr>\n",
       "    <tr>\n",
       "      <th>2</th>\n",
       "      <td>2020-06-25</td>\n",
       "      <td>GM02</td>\n",
       "      <td>Free State of Bavaria</td>\n",
       "      <td>2583</td>\n",
       "    </tr>\n",
       "    <tr>\n",
       "      <th>3</th>\n",
       "      <td>2020-06-25</td>\n",
       "      <td>GM03</td>\n",
       "      <td>Free Hanseatic City of Bremen</td>\n",
       "      <td>49</td>\n",
       "    </tr>\n",
       "    <tr>\n",
       "      <th>4</th>\n",
       "      <td>2020-06-25</td>\n",
       "      <td>GM04</td>\n",
       "      <td>Free Hanseatic City of Hamburg</td>\n",
       "      <td>259</td>\n",
       "    </tr>\n",
       "  </tbody>\n",
       "</table>\n",
       "</div>"
      ],
      "text/plain": [
       "         date location                   location_name  value\n",
       "0  2020-06-25       GM                         Germany   8927\n",
       "1  2020-06-25     GM01         Baden-Württemberg State   1827\n",
       "2  2020-06-25     GM02           Free State of Bavaria   2583\n",
       "3  2020-06-25     GM03   Free Hanseatic City of Bremen     49\n",
       "4  2020-06-25     GM04  Free Hanseatic City of Hamburg    259"
      ]
     },
     "execution_count": 21,
     "metadata": {},
     "output_type": "execute_result"
    }
   ],
   "source": [
    "df_cum.head()"
   ]
  },
  {
   "cell_type": "markdown",
   "metadata": {},
   "source": [
    "# Load Current Dataframe"
   ]
  },
  {
   "cell_type": "code",
   "execution_count": 22,
   "metadata": {},
   "outputs": [],
   "source": [
    "df_all = pd.read_csv('../../data-truth/RKI/truth_cum_deaths.csv')"
   ]
  },
  {
   "cell_type": "code",
   "execution_count": 23,
   "metadata": {},
   "outputs": [
    {
     "data": {
      "text/plain": [
       "(1528, 4)"
      ]
     },
     "execution_count": 23,
     "metadata": {},
     "output_type": "execute_result"
    }
   ],
   "source": [
    "df_all.shape"
   ]
  },
  {
   "cell_type": "code",
   "execution_count": 24,
   "metadata": {},
   "outputs": [
    {
     "data": {
      "text/html": [
       "<div>\n",
       "<style scoped>\n",
       "    .dataframe tbody tr th:only-of-type {\n",
       "        vertical-align: middle;\n",
       "    }\n",
       "\n",
       "    .dataframe tbody tr th {\n",
       "        vertical-align: top;\n",
       "    }\n",
       "\n",
       "    .dataframe thead th {\n",
       "        text-align: right;\n",
       "    }\n",
       "</style>\n",
       "<table border=\"1\" class=\"dataframe\">\n",
       "  <thead>\n",
       "    <tr style=\"text-align: right;\">\n",
       "      <th></th>\n",
       "      <th>date</th>\n",
       "      <th>location</th>\n",
       "      <th>location_name</th>\n",
       "      <th>value</th>\n",
       "    </tr>\n",
       "  </thead>\n",
       "  <tbody>\n",
       "    <tr>\n",
       "      <th>1523</th>\n",
       "      <td>2020-06-25</td>\n",
       "      <td>GM12</td>\n",
       "      <td>Mecklenburg-Western Pomerania State</td>\n",
       "      <td>20</td>\n",
       "    </tr>\n",
       "    <tr>\n",
       "      <th>1524</th>\n",
       "      <td>2020-06-25</td>\n",
       "      <td>GM13</td>\n",
       "      <td>Free State of Saxony</td>\n",
       "      <td>223</td>\n",
       "    </tr>\n",
       "    <tr>\n",
       "      <th>1525</th>\n",
       "      <td>2020-06-25</td>\n",
       "      <td>GM14</td>\n",
       "      <td>Sachsen-Anhalt State</td>\n",
       "      <td>58</td>\n",
       "    </tr>\n",
       "    <tr>\n",
       "      <th>1526</th>\n",
       "      <td>2020-06-25</td>\n",
       "      <td>GM15</td>\n",
       "      <td>Free State of Thüringia</td>\n",
       "      <td>178</td>\n",
       "    </tr>\n",
       "    <tr>\n",
       "      <th>1527</th>\n",
       "      <td>2020-06-25</td>\n",
       "      <td>GM16</td>\n",
       "      <td>Berlin State</td>\n",
       "      <td>212</td>\n",
       "    </tr>\n",
       "  </tbody>\n",
       "</table>\n",
       "</div>"
      ],
      "text/plain": [
       "            date location                        location_name  value\n",
       "1523  2020-06-25     GM12  Mecklenburg-Western Pomerania State     20\n",
       "1524  2020-06-25     GM13                 Free State of Saxony    223\n",
       "1525  2020-06-25     GM14                 Sachsen-Anhalt State     58\n",
       "1526  2020-06-25     GM15              Free State of Thüringia    178\n",
       "1527  2020-06-25     GM16                         Berlin State    212"
      ]
     },
     "execution_count": 24,
     "metadata": {},
     "output_type": "execute_result"
    }
   ],
   "source": [
    "df_all.tail()"
   ]
  },
  {
   "cell_type": "markdown",
   "metadata": {},
   "source": [
    "# Add New Dataframe"
   ]
  },
  {
   "cell_type": "code",
   "execution_count": 25,
   "metadata": {},
   "outputs": [],
   "source": [
    "df_cum = pd.concat([df_all, df_cum])"
   ]
  },
  {
   "cell_type": "code",
   "execution_count": 26,
   "metadata": {},
   "outputs": [],
   "source": [
    "df_cum.reset_index(drop=True, inplace=True)"
   ]
  },
  {
   "cell_type": "code",
   "execution_count": 27,
   "metadata": {},
   "outputs": [
    {
     "data": {
      "text/plain": [
       "(1545, 4)"
      ]
     },
     "execution_count": 27,
     "metadata": {},
     "output_type": "execute_result"
    }
   ],
   "source": [
    "df_cum.shape"
   ]
  },
  {
   "cell_type": "markdown",
   "metadata": {},
   "source": [
    "# Drop Duplicates"
   ]
  },
  {
   "cell_type": "markdown",
   "metadata": {},
   "source": [
    "In case we accidentally load the same file twice."
   ]
  },
  {
   "cell_type": "code",
   "execution_count": 28,
   "metadata": {
    "scrolled": true
   },
   "outputs": [],
   "source": [
    "df_cum.drop_duplicates(inplace=True)"
   ]
  },
  {
   "cell_type": "code",
   "execution_count": 29,
   "metadata": {},
   "outputs": [
    {
     "data": {
      "text/plain": [
       "(1528, 4)"
      ]
     },
     "execution_count": 29,
     "metadata": {},
     "output_type": "execute_result"
    }
   ],
   "source": [
    "df_cum.shape"
   ]
  },
  {
   "cell_type": "markdown",
   "metadata": {},
   "source": [
    "# Incidence"
   ]
  },
  {
   "cell_type": "markdown",
   "metadata": {},
   "source": [
    "We compute the incident deaths as the difference to the previous day."
   ]
  },
  {
   "cell_type": "code",
   "execution_count": 30,
   "metadata": {},
   "outputs": [],
   "source": [
    "df_inc = df_cum.copy()"
   ]
  },
  {
   "cell_type": "code",
   "execution_count": 31,
   "metadata": {},
   "outputs": [],
   "source": [
    "df_inc.value = df_inc.groupby(['location'])['value'].diff()\n",
    "df_inc.dropna(inplace=True)\n",
    "df_inc.value = df_inc.value.astype(int)"
   ]
  },
  {
   "cell_type": "code",
   "execution_count": 32,
   "metadata": {
    "scrolled": false
   },
   "outputs": [
    {
     "data": {
      "text/html": [
       "<div>\n",
       "<style scoped>\n",
       "    .dataframe tbody tr th:only-of-type {\n",
       "        vertical-align: middle;\n",
       "    }\n",
       "\n",
       "    .dataframe tbody tr th {\n",
       "        vertical-align: top;\n",
       "    }\n",
       "\n",
       "    .dataframe thead th {\n",
       "        text-align: right;\n",
       "    }\n",
       "</style>\n",
       "<table border=\"1\" class=\"dataframe\">\n",
       "  <thead>\n",
       "    <tr style=\"text-align: right;\">\n",
       "      <th></th>\n",
       "      <th>date</th>\n",
       "      <th>location</th>\n",
       "      <th>location_name</th>\n",
       "      <th>value</th>\n",
       "    </tr>\n",
       "  </thead>\n",
       "  <tbody>\n",
       "    <tr>\n",
       "      <th>1511</th>\n",
       "      <td>2020-06-25</td>\n",
       "      <td>GM</td>\n",
       "      <td>Germany</td>\n",
       "      <td>13</td>\n",
       "    </tr>\n",
       "    <tr>\n",
       "      <th>1512</th>\n",
       "      <td>2020-06-25</td>\n",
       "      <td>GM01</td>\n",
       "      <td>Baden-Württemberg State</td>\n",
       "      <td>1</td>\n",
       "    </tr>\n",
       "    <tr>\n",
       "      <th>1513</th>\n",
       "      <td>2020-06-25</td>\n",
       "      <td>GM02</td>\n",
       "      <td>Free State of Bavaria</td>\n",
       "      <td>5</td>\n",
       "    </tr>\n",
       "    <tr>\n",
       "      <th>1514</th>\n",
       "      <td>2020-06-25</td>\n",
       "      <td>GM03</td>\n",
       "      <td>Free Hanseatic City of Bremen</td>\n",
       "      <td>0</td>\n",
       "    </tr>\n",
       "    <tr>\n",
       "      <th>1515</th>\n",
       "      <td>2020-06-25</td>\n",
       "      <td>GM04</td>\n",
       "      <td>Free Hanseatic City of Hamburg</td>\n",
       "      <td>0</td>\n",
       "    </tr>\n",
       "    <tr>\n",
       "      <th>1516</th>\n",
       "      <td>2020-06-25</td>\n",
       "      <td>GM05</td>\n",
       "      <td>Hesse State</td>\n",
       "      <td>2</td>\n",
       "    </tr>\n",
       "    <tr>\n",
       "      <th>1517</th>\n",
       "      <td>2020-06-25</td>\n",
       "      <td>GM06</td>\n",
       "      <td>Lower Saxony State</td>\n",
       "      <td>1</td>\n",
       "    </tr>\n",
       "    <tr>\n",
       "      <th>1518</th>\n",
       "      <td>2020-06-25</td>\n",
       "      <td>GM07</td>\n",
       "      <td>North Rhine-Westphalia State</td>\n",
       "      <td>1</td>\n",
       "    </tr>\n",
       "    <tr>\n",
       "      <th>1519</th>\n",
       "      <td>2020-06-25</td>\n",
       "      <td>GM08</td>\n",
       "      <td>Rhineland-Palatinate State</td>\n",
       "      <td>0</td>\n",
       "    </tr>\n",
       "    <tr>\n",
       "      <th>1520</th>\n",
       "      <td>2020-06-25</td>\n",
       "      <td>GM09</td>\n",
       "      <td>Saarland State</td>\n",
       "      <td>0</td>\n",
       "    </tr>\n",
       "    <tr>\n",
       "      <th>1521</th>\n",
       "      <td>2020-06-25</td>\n",
       "      <td>GM10</td>\n",
       "      <td>Schleswig-Holstein State</td>\n",
       "      <td>0</td>\n",
       "    </tr>\n",
       "    <tr>\n",
       "      <th>1522</th>\n",
       "      <td>2020-06-25</td>\n",
       "      <td>GM11</td>\n",
       "      <td>Brandenburg State</td>\n",
       "      <td>1</td>\n",
       "    </tr>\n",
       "    <tr>\n",
       "      <th>1523</th>\n",
       "      <td>2020-06-25</td>\n",
       "      <td>GM12</td>\n",
       "      <td>Mecklenburg-Western Pomerania State</td>\n",
       "      <td>0</td>\n",
       "    </tr>\n",
       "    <tr>\n",
       "      <th>1524</th>\n",
       "      <td>2020-06-25</td>\n",
       "      <td>GM13</td>\n",
       "      <td>Free State of Saxony</td>\n",
       "      <td>1</td>\n",
       "    </tr>\n",
       "    <tr>\n",
       "      <th>1525</th>\n",
       "      <td>2020-06-25</td>\n",
       "      <td>GM14</td>\n",
       "      <td>Sachsen-Anhalt State</td>\n",
       "      <td>0</td>\n",
       "    </tr>\n",
       "    <tr>\n",
       "      <th>1526</th>\n",
       "      <td>2020-06-25</td>\n",
       "      <td>GM15</td>\n",
       "      <td>Free State of Thüringia</td>\n",
       "      <td>0</td>\n",
       "    </tr>\n",
       "    <tr>\n",
       "      <th>1527</th>\n",
       "      <td>2020-06-25</td>\n",
       "      <td>GM16</td>\n",
       "      <td>Berlin State</td>\n",
       "      <td>1</td>\n",
       "    </tr>\n",
       "  </tbody>\n",
       "</table>\n",
       "</div>"
      ],
      "text/plain": [
       "            date location                        location_name  value\n",
       "1511  2020-06-25       GM                              Germany     13\n",
       "1512  2020-06-25     GM01              Baden-Württemberg State      1\n",
       "1513  2020-06-25     GM02                Free State of Bavaria      5\n",
       "1514  2020-06-25     GM03        Free Hanseatic City of Bremen      0\n",
       "1515  2020-06-25     GM04       Free Hanseatic City of Hamburg      0\n",
       "1516  2020-06-25     GM05                          Hesse State      2\n",
       "1517  2020-06-25     GM06                   Lower Saxony State      1\n",
       "1518  2020-06-25     GM07         North Rhine-Westphalia State      1\n",
       "1519  2020-06-25     GM08           Rhineland-Palatinate State      0\n",
       "1520  2020-06-25     GM09                       Saarland State      0\n",
       "1521  2020-06-25     GM10             Schleswig-Holstein State      0\n",
       "1522  2020-06-25     GM11                    Brandenburg State      1\n",
       "1523  2020-06-25     GM12  Mecklenburg-Western Pomerania State      0\n",
       "1524  2020-06-25     GM13                 Free State of Saxony      1\n",
       "1525  2020-06-25     GM14                 Sachsen-Anhalt State      0\n",
       "1526  2020-06-25     GM15              Free State of Thüringia      0\n",
       "1527  2020-06-25     GM16                         Berlin State      1"
      ]
     },
     "execution_count": 32,
     "metadata": {},
     "output_type": "execute_result"
    }
   ],
   "source": [
    "df_inc.tail(17)"
   ]
  },
  {
   "cell_type": "markdown",
   "metadata": {},
   "source": [
    "### Export Cum. Deaths"
   ]
  },
  {
   "cell_type": "code",
   "execution_count": 33,
   "metadata": {},
   "outputs": [],
   "source": [
    "df_cum.to_csv('../../data-truth/RKI/truth_cum_deaths.csv', index=False)"
   ]
  },
  {
   "cell_type": "markdown",
   "metadata": {},
   "source": [
    "### Export Inc. Deaths"
   ]
  },
  {
   "cell_type": "code",
   "execution_count": 34,
   "metadata": {},
   "outputs": [],
   "source": [
    "df_inc.to_csv('../../data-truth/RKI/truth_inc_deaths.csv', index=False)"
   ]
  }
 ],
 "metadata": {
  "kernelspec": {
   "display_name": "Python [default]",
   "language": "python",
   "name": "python3"
  },
  "language_info": {
   "codemirror_mode": {
    "name": "ipython",
    "version": 3
   },
   "file_extension": ".py",
   "mimetype": "text/x-python",
   "name": "python",
   "nbconvert_exporter": "python",
   "pygments_lexer": "ipython3",
   "version": "3.6.5"
  }
 },
 "nbformat": 4,
 "nbformat_minor": 2
}
